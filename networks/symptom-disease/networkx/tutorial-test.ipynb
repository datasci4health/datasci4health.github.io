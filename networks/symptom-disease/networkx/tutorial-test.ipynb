{
 "cells": [
  {
   "cell_type": "code",
   "execution_count": 2,
   "id": "e97ba6ff-1f49-469b-82f7-5f2200b53d58",
   "metadata": {},
   "outputs": [],
   "source": [
    "import networkx as nx\n",
    "import matplotlib.pyplot as plt     # For visualising graphs\n",
    "import pandas as pd                 # To see how nicely it plays with networkx\n",
    "import numpy as np                  # To see how nicely it plays with networkx"
   ]
  },
  {
   "cell_type": "code",
   "execution_count": 5,
   "id": "bc8ceb12-bfc4-43b6-a8ab-9b3b455d560c",
   "metadata": {},
   "outputs": [],
   "source": [
    "def printGraphState(g):\n",
    "    \"\"\"\n",
    "    Prints out the number of nodes, edges, and selfloops in the given graph (g)\n",
    "    \"\"\"\n",
    "    print(\"# nodes: \" + str(g.number_of_nodes()))\n",
    "    print(g.nodes())\n",
    "    print(\"# edges: \" + str(g.number_of_edges()))\n",
    "    print(g.edges())"
   ]
  },
  {
   "cell_type": "code",
   "execution_count": 6,
   "id": "01c67ef9-daa1-4585-8051-a8f8a6f5e7ae",
   "metadata": {},
   "outputs": [
    {
     "name": "stdout",
     "output_type": "stream",
     "text": [
      "# nodes: 0\n",
      "[]\n",
      "# edges: 0\n",
      "[]\n"
     ]
    }
   ],
   "source": [
    "g = nx.Graph()\n",
    "printGraphState(g)"
   ]
  },
  {
   "cell_type": "code",
   "execution_count": 7,
   "id": "0c6e1610-c82a-4b97-bca3-987d76b93fe8",
   "metadata": {},
   "outputs": [
    {
     "name": "stdout",
     "output_type": "stream",
     "text": [
      "# nodes: 13\n",
      "[1, 2, 3, 'H', 'e', 'l', 'o', ',', ' ', 'w', 'r', 'd', '!']\n",
      "# edges: 0\n",
      "[]\n"
     ]
    }
   ],
   "source": [
    "g.add_node(1)             # Add a single node\n",
    "g.add_nodes_from([2,3])   # Add a list of nodes\n",
    "g.add_nodes_from(\"Hello, world!\")   # Add nodes from a string\n",
    "printGraphState(g)"
   ]
  },
  {
   "cell_type": "code",
   "execution_count": 8,
   "id": "fef82de8-8a9a-4152-b8cf-4acb6609e182",
   "metadata": {},
   "outputs": [
    {
     "name": "stdout",
     "output_type": "stream",
     "text": [
      "# nodes: 10\n",
      "[0, 1, 2, 3, 4, 5, 6, 7, 8, 9]\n",
      "# edges: 9\n",
      "[(0, 1), (1, 2), (2, 3), (3, 4), (4, 5), (5, 6), (6, 7), (7, 8), (8, 9)]\n",
      "# nodes: 21\n",
      "[1, 2, 3, 'H', 'e', 'l', 'o', ',', ' ', 'w', 'r', 'd', '!', 0, 4, 5, 6, 7, 8, 9, <networkx.classes.graph.Graph object at 0x7c247bb54370>]\n",
      "# edges: 0\n",
      "[]\n"
     ]
    }
   ],
   "source": [
    "g2 = nx.path_graph(10)\n",
    "printGraphState(g2)\n",
    "g.add_nodes_from(g2)     # Add the nodes from g2\n",
    "g.add_node(g2)           # Add g2 as a node (graph of graphs)\n",
    "printGraphState(g)"
   ]
  },
  {
   "cell_type": "code",
   "execution_count": 9,
   "id": "519b2be9-0959-46c2-b4c3-5148079c6ed8",
   "metadata": {},
   "outputs": [
    {
     "name": "stdout",
     "output_type": "stream",
     "text": [
      "# nodes: 21\n",
      "[1, 2, 3, 'H', 'e', 'l', 'o', ',', ' ', 'w', 'r', 'd', '!', 0, 4, 5, 6, 7, 8, 9, <networkx.classes.graph.Graph object at 0x7c247bb54370>]\n",
      "# edges: 1\n",
      "[(1, 2)]\n",
      "# nodes: 21\n",
      "[1, 2, 3, 'H', 'e', 'l', 'o', ',', ' ', 'w', 'r', 'd', '!', 0, 4, 5, 6, 7, 8, 9, <networkx.classes.graph.Graph object at 0x7c247bb54370>]\n",
      "# edges: 2\n",
      "[(1, 2), (2, 3)]\n"
     ]
    }
   ],
   "source": [
    "g.add_edge(1,2)\n",
    "printGraphState(g)\n",
    "e1 = (2,3)\n",
    "g.add_edge(*e1)           # Unpacks the edge tuple\n",
    "printGraphState(g)"
   ]
  },
  {
   "cell_type": "code",
   "execution_count": 10,
   "id": "de0edadd-2225-4bbf-9630-8e214f517652",
   "metadata": {},
   "outputs": [
    {
     "name": "stdout",
     "output_type": "stream",
     "text": [
      "# nodes: 21\n",
      "[1, 2, 3, 'H', 'e', 'l', 'o', ',', ' ', 'w', 'r', 'd', '!', 0, 4, 5, 6, 7, 8, 9, <networkx.classes.graph.Graph object at 0x7c247bb54370>]\n",
      "# edges: 3\n",
      "[(1, 2), (1, 3), (2, 3)]\n"
     ]
    }
   ],
   "source": [
    "g.add_edges_from([(1,2),(1,3)])\n",
    "printGraphState(g)"
   ]
  },
  {
   "cell_type": "code",
   "execution_count": 11,
   "id": "65692ddd-dd18-4c7b-91e9-372bc5930117",
   "metadata": {},
   "outputs": [
    {
     "name": "stdout",
     "output_type": "stream",
     "text": [
      "# nodes: 21\n",
      "[1, 2, 3, 'H', 'e', 'l', 'o', ',', ' ', 'w', 'r', 'd', '!', 0, 4, 5, 6, 7, 8, 9, <networkx.classes.graph.Graph object at 0x7c247bb54370>]\n",
      "# edges: 10\n",
      "[(1, 2), (1, 3), (1, 0), (2, 3), (3, 4), (4, 5), (5, 6), (6, 7), (7, 8), (8, 9)]\n"
     ]
    }
   ],
   "source": [
    "g.add_edges_from(g2.edges())\n",
    "printGraphState(g)"
   ]
  },
  {
   "cell_type": "code",
   "execution_count": 12,
   "id": "24ac02cd-730b-4dec-9d88-cce16e3cefde",
   "metadata": {},
   "outputs": [
    {
     "data": {
      "image/png": "[encoded data removed]",
      "text/plain": [
       "<Figure size 640x480 with 1 Axes>"
      ]
     },
     "metadata": {},
     "output_type": "display_data"
    }
   ],
   "source": [
    "nx.draw(g)"
   ]
  },
  {
   "cell_type": "code",
   "execution_count": null,
   "id": "c64e4e08-1dbd-4c2c-ba4d-d48fe5f450ae",
   "metadata": {},
   "outputs": [],
   "source": []
  }
 ],
 "metadata": {
  "kernelspec": {
   "display_name": "Python 3 (ipykernel)",
   "language": "python",
   "name": "python3"
  },
  "language_info": {
   "codemirror_mode": {
    "name": "ipython",
    "version": 3
   },
   "file_extension": ".py",
   "mimetype": "text/x-python",
   "name": "python",
   "nbconvert_exporter": "python",
   "pygments_lexer": "ipython3",
   "version": "3.10.12"
  }
 },
 "nbformat": 4,
 "nbformat_minor": 5
}
