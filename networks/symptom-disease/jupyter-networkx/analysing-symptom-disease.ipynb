{
 "cells": [
  {
   "cell_type": "code",
   "execution_count": 1,
   "id": "046cd1a4-275f-49a9-beb3-fdc2fb1d16a8",
   "metadata": {},
   "outputs": [],
   "source": [
    "import networkx as nx\n",
    "import matplotlib.pyplot as plt\n",
    "import pandas as pd"
   ]
  },
  {
   "cell_type": "code",
   "execution_count": 2,
   "id": "36a658c3-361d-43b6-ac42-ccd72201a31b",
   "metadata": {},
   "outputs": [],
   "source": [
    "def printGraphState(g):\n",
    "    \"\"\"\n",
    "    Prints out the number of nodes, edges, and selfloops in the given graph (g)\n",
    "    \"\"\"\n",
    "    print(\"# nodes: \" + str(g.number_of_nodes()))\n",
    "    print(g.nodes())\n",
    "    print(\"# edges: \" + str(g.number_of_edges()))\n",
    "    print(g.edges())"
   ]
  },
  {
   "cell_type": "code",
   "execution_count": 3,
   "id": "360ea6e1-be78-4908-8dd1-43120d1a0606",
   "metadata": {},
   "outputs": [
    {
     "data": {
      "text/html": [
       "<div>\n",
       "<style scoped>\n",
       "    .dataframe tbody tr th:only-of-type {\n",
       "        vertical-align: middle;\n",
       "    }\n",
       "\n",
       "    .dataframe tbody tr th {\n",
       "        vertical-align: top;\n",
       "    }\n",
       "\n",
       "    .dataframe thead th {\n",
       "        text-align: right;\n",
       "    }\n",
       "</style>\n",
       "<table border=\"1\" class=\"dataframe\">\n",
       "  <thead>\n",
       "    <tr style=\"text-align: right;\">\n",
       "      <th></th>\n",
       "      <th>term</th>\n",
       "      <th>type</th>\n",
       "    </tr>\n",
       "  </thead>\n",
       "  <tbody>\n",
       "    <tr>\n",
       "      <th>0</th>\n",
       "      <td>Blindness</td>\n",
       "      <td>symptom</td>\n",
       "    </tr>\n",
       "    <tr>\n",
       "      <th>1</th>\n",
       "      <td>Diabetes Mellitus</td>\n",
       "      <td>disease</td>\n",
       "    </tr>\n",
       "    <tr>\n",
       "      <th>2</th>\n",
       "      <td>Obesity</td>\n",
       "      <td>symptom</td>\n",
       "    </tr>\n",
       "    <tr>\n",
       "      <th>3</th>\n",
       "      <td>Myocardial Infarction</td>\n",
       "      <td>disease</td>\n",
       "    </tr>\n",
       "    <tr>\n",
       "      <th>4</th>\n",
       "      <td>Uveitis</td>\n",
       "      <td>disease</td>\n",
       "    </tr>\n",
       "  </tbody>\n",
       "</table>\n",
       "</div>"
      ],
      "text/plain": [
       "                    term     type\n",
       "0              Blindness  symptom\n",
       "1      Diabetes Mellitus  disease\n",
       "2                Obesity  symptom\n",
       "3  Myocardial Infarction  disease\n",
       "4                Uveitis  disease"
      ]
     },
     "execution_count": 3,
     "metadata": {},
     "output_type": "execute_result"
    }
   ],
   "source": [
    "sd_nodes = pd.read_csv(\"./symptom-disease-nodes_simple-case.csv\")\n",
    "sd_nodes"
   ]
  },
  {
   "cell_type": "code",
   "execution_count": 4,
   "id": "5251ec31-a50f-42c8-bfce-eca2e73e30b6",
   "metadata": {},
   "outputs": [
    {
     "data": {
      "text/html": [
       "<div>\n",
       "<style scoped>\n",
       "    .dataframe tbody tr th:only-of-type {\n",
       "        vertical-align: middle;\n",
       "    }\n",
       "\n",
       "    .dataframe tbody tr th {\n",
       "        vertical-align: top;\n",
       "    }\n",
       "\n",
       "    .dataframe thead th {\n",
       "        text-align: right;\n",
       "    }\n",
       "</style>\n",
       "<table border=\"1\" class=\"dataframe\">\n",
       "  <thead>\n",
       "    <tr style=\"text-align: right;\">\n",
       "      <th></th>\n",
       "      <th>symptom</th>\n",
       "      <th>disease</th>\n",
       "    </tr>\n",
       "  </thead>\n",
       "  <tbody>\n",
       "    <tr>\n",
       "      <th>0</th>\n",
       "      <td>Blindness</td>\n",
       "      <td>Diabetes Mellitus</td>\n",
       "    </tr>\n",
       "    <tr>\n",
       "      <th>1</th>\n",
       "      <td>Obesity</td>\n",
       "      <td>Diabetes Mellitus</td>\n",
       "    </tr>\n",
       "    <tr>\n",
       "      <th>2</th>\n",
       "      <td>Obesity</td>\n",
       "      <td>Myocardial Infarction</td>\n",
       "    </tr>\n",
       "    <tr>\n",
       "      <th>3</th>\n",
       "      <td>Blindness</td>\n",
       "      <td>Uveitis</td>\n",
       "    </tr>\n",
       "  </tbody>\n",
       "</table>\n",
       "</div>"
      ],
      "text/plain": [
       "     symptom                disease\n",
       "0  Blindness      Diabetes Mellitus\n",
       "1    Obesity      Diabetes Mellitus\n",
       "2    Obesity  Myocardial Infarction\n",
       "3  Blindness                Uveitis"
      ]
     },
     "execution_count": 4,
     "metadata": {},
     "output_type": "execute_result"
    }
   ],
   "source": [
    "sd_edges = pd.read_csv(\"./symptom-disease-edges_simple-case.csv\")\n",
    "sd_edges"
   ]
  },
  {
   "cell_type": "code",
   "execution_count": 5,
   "id": "52a6e762-ce07-4e08-a913-34fe4e0ac530",
   "metadata": {},
   "outputs": [
    {
     "name": "stdout",
     "output_type": "stream",
     "text": [
      "# nodes: 5\n",
      "['Blindness', 'Diabetes Mellitus', 'Obesity', 'Myocardial Infarction', 'Uveitis']\n",
      "# edges: 4\n",
      "[('Blindness', 'Diabetes Mellitus'), ('Blindness', 'Uveitis'), ('Diabetes Mellitus', 'Obesity'), ('Obesity', 'Myocardial Infarction')]\n"
     ]
    }
   ],
   "source": [
    "symptom_disease_graph = nx.from_pandas_edgelist(sd_edges, 'symptom', 'disease')\n",
    "printGraphState(symptom_disease_graph)"
   ]
  },
  {
   "cell_type": "code",
   "execution_count": 15,
   "id": "bd295b16-4517-49e2-9db5-4e99de049fc5",
   "metadata": {},
   "outputs": [
    {
     "name": "stdout",
     "output_type": "stream",
     "text": [
      "# nodes: 5\n",
      "['Blindness', 'Diabetes Mellitus', 'Obesity', 'Myocardial Infarction', 'Uveitis']\n",
      "# edges: 4\n",
      "[('Blindness', 'Diabetes Mellitus'), ('Blindness', 'Uveitis'), ('Diabetes Mellitus', 'Obesity'), ('Obesity', 'Myocardial Infarction')]\n"
     ]
    }
   ],
   "source": [
    "attr = pd.Series(data=sd_nodes.type, index=sd_nodes.index).to_dict()\n",
    "index = 0\n",
    "for i in symptom_disease_graph.nodes:\n",
    "    symptom_disease_graph.nodes[i]['type'] = attr[index]\n",
    "    index = index + 1\n",
    "printGraphState(symptom_disease_graph)"
   ]
  },
  {
   "cell_type": "code",
   "execution_count": 16,
   "id": "2a46ccd9-f781-4496-8f5a-957b0bf4d6af",
   "metadata": {},
   "outputs": [
    {
     "data": {
      "image/png": "[encoded data removed]",
      "text/plain": [
       "<Figure size 640x480 with 1 Axes>"
      ]
     },
     "metadata": {},
     "output_type": "display_data"
    }
   ],
   "source": [
    "color_map = []\n",
    "for node in symptom_disease_graph.nodes:\n",
    "    if symptom_disease_graph.nodes[node]['type'] == 'symptom':\n",
    "        color_map.append('blue')\n",
    "    else: \n",
    "        color_map.append('green')      \n",
    "nx.draw(symptom_disease_graph, node_color=color_map, with_labels=True)"
   ]
  },
  {
   "cell_type": "code",
   "execution_count": 20,
   "id": "10883af9-d236-4c6e-8b26-ecf2d901340d",
   "metadata": {},
   "outputs": [],
   "source": [
    "nx.write_pajek(symptom_disease_graph, \"symptom-disease-edges_simple-case.net\")"
   ]
  }
 ],
 "metadata": {
  "kernelspec": {
   "display_name": "Python 3 (ipykernel)",
   "language": "python",
   "name": "python3"
  },
  "language_info": {
   "codemirror_mode": {
    "name": "ipython",
    "version": 3
   },
   "file_extension": ".py",
   "mimetype": "text/x-python",
   "name": "python",
   "nbconvert_exporter": "python",
   "pygments_lexer": "ipython3",
   "version": "3.10.12"
  }
 },
 "nbformat": 4,
 "nbformat_minor": 5
}
