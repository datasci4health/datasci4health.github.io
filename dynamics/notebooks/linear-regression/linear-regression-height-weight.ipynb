{
 "cells": [
  {
   "cell_type": "markdown",
   "metadata": {},
   "source": [
    "# Regressão Linear com Zombie Health\n",
    "## Altura x Peso"
   ]
  },
  {
   "cell_type": "markdown",
   "metadata": {},
   "source": [
    "## Importando o arquivo CSV com o Pandas"
   ]
  },
  {
   "cell_type": "code",
   "execution_count": 1,
   "metadata": {},
   "outputs": [
    {
     "data": {
      "text/html": [
       "<div>\n",
       "<style scoped>\n",
       "    .dataframe tbody tr th:only-of-type {\n",
       "        vertical-align: middle;\n",
       "    }\n",
       "\n",
       "    .dataframe tbody tr th {\n",
       "        vertical-align: top;\n",
       "    }\n",
       "\n",
       "    .dataframe thead th {\n",
       "        text-align: right;\n",
       "    }\n",
       "</style>\n",
       "<table border=\"1\" class=\"dataframe\">\n",
       "  <thead>\n",
       "    <tr style=\"text-align: right;\">\n",
       "      <th></th>\n",
       "      <th>name</th>\n",
       "      <th>type</th>\n",
       "      <th>gender</th>\n",
       "      <th>height</th>\n",
       "      <th>weight</th>\n",
       "      <th>gbc</th>\n",
       "      <th>gs</th>\n",
       "      <th>pbc</th>\n",
       "      <th>sp</th>\n",
       "    </tr>\n",
       "  </thead>\n",
       "  <tbody>\n",
       "    <tr>\n",
       "      <th>0</th>\n",
       "      <td>Lossack Slossir</td>\n",
       "      <td>biological</td>\n",
       "      <td>male</td>\n",
       "      <td>1.88</td>\n",
       "      <td>109.72</td>\n",
       "      <td>0.8</td>\n",
       "      <td>14</td>\n",
       "      <td>5.1</td>\n",
       "      <td>3.5</td>\n",
       "    </tr>\n",
       "    <tr>\n",
       "      <th>1</th>\n",
       "      <td>Hasp Talch</td>\n",
       "      <td>biological</td>\n",
       "      <td>male</td>\n",
       "      <td>1.75</td>\n",
       "      <td>73.62</td>\n",
       "      <td>0.8</td>\n",
       "      <td>14</td>\n",
       "      <td>4.9</td>\n",
       "      <td>3.0</td>\n",
       "    </tr>\n",
       "    <tr>\n",
       "      <th>2</th>\n",
       "      <td>Lesprash Rindrad</td>\n",
       "      <td>biological</td>\n",
       "      <td>male</td>\n",
       "      <td>1.88</td>\n",
       "      <td>96.50</td>\n",
       "      <td>0.8</td>\n",
       "      <td>13</td>\n",
       "      <td>4.7</td>\n",
       "      <td>3.2</td>\n",
       "    </tr>\n",
       "    <tr>\n",
       "      <th>3</th>\n",
       "      <td>Halceff Gock</td>\n",
       "      <td>biological</td>\n",
       "      <td>male</td>\n",
       "      <td>1.82</td>\n",
       "      <td>99.81</td>\n",
       "      <td>0.8</td>\n",
       "      <td>15</td>\n",
       "      <td>4.6</td>\n",
       "      <td>3.1</td>\n",
       "    </tr>\n",
       "    <tr>\n",
       "      <th>4</th>\n",
       "      <td>Moddeche Splud</td>\n",
       "      <td>biological</td>\n",
       "      <td>male</td>\n",
       "      <td>1.77</td>\n",
       "      <td>93.60</td>\n",
       "      <td>0.8</td>\n",
       "      <td>14</td>\n",
       "      <td>5.0</td>\n",
       "      <td>3.6</td>\n",
       "    </tr>\n",
       "    <tr>\n",
       "      <th>5</th>\n",
       "      <td>Oshor Geactong</td>\n",
       "      <td>biological</td>\n",
       "      <td>male</td>\n",
       "      <td>1.71</td>\n",
       "      <td>69.04</td>\n",
       "      <td>1.6</td>\n",
       "      <td>17</td>\n",
       "      <td>5.4</td>\n",
       "      <td>3.9</td>\n",
       "    </tr>\n",
       "    <tr>\n",
       "      <th>6</th>\n",
       "      <td>Glitcolch Threbbalgo</td>\n",
       "      <td>biological</td>\n",
       "      <td>male</td>\n",
       "      <td>1.75</td>\n",
       "      <td>83.43</td>\n",
       "      <td>1.2</td>\n",
       "      <td>14</td>\n",
       "      <td>4.6</td>\n",
       "      <td>3.4</td>\n",
       "    </tr>\n",
       "    <tr>\n",
       "      <th>7</th>\n",
       "      <td>Giemmedd Ark</td>\n",
       "      <td>biological</td>\n",
       "      <td>male</td>\n",
       "      <td>1.74</td>\n",
       "      <td>76.19</td>\n",
       "      <td>0.8</td>\n",
       "      <td>15</td>\n",
       "      <td>5.0</td>\n",
       "      <td>3.4</td>\n",
       "    </tr>\n",
       "    <tr>\n",
       "      <th>8</th>\n",
       "      <td>Nesp Natho</td>\n",
       "      <td>biological</td>\n",
       "      <td>male</td>\n",
       "      <td>1.70</td>\n",
       "      <td>79.80</td>\n",
       "      <td>0.8</td>\n",
       "      <td>14</td>\n",
       "      <td>4.4</td>\n",
       "      <td>2.9</td>\n",
       "    </tr>\n",
       "    <tr>\n",
       "      <th>9</th>\n",
       "      <td>Mapmo Ondrath</td>\n",
       "      <td>biological</td>\n",
       "      <td>male</td>\n",
       "      <td>1.61</td>\n",
       "      <td>70.94</td>\n",
       "      <td>0.4</td>\n",
       "      <td>15</td>\n",
       "      <td>4.9</td>\n",
       "      <td>3.1</td>\n",
       "    </tr>\n",
       "  </tbody>\n",
       "</table>\n",
       "</div>"
      ],
      "text/plain": [
       "                   name        type gender  height  weight  gbc  gs  pbc   sp\n",
       "0       Lossack Slossir  biological   male    1.88  109.72  0.8  14  5.1  3.5\n",
       "1            Hasp Talch  biological   male    1.75   73.62  0.8  14  4.9  3.0\n",
       "2      Lesprash Rindrad  biological   male    1.88   96.50  0.8  13  4.7  3.2\n",
       "3          Halceff Gock  biological   male    1.82   99.81  0.8  15  4.6  3.1\n",
       "4       Moddeche Splud   biological   male    1.77   93.60  0.8  14  5.0  3.6\n",
       "5        Oshor Geactong  biological   male    1.71   69.04  1.6  17  5.4  3.9\n",
       "6  Glitcolch Threbbalgo  biological   male    1.75   83.43  1.2  14  4.6  3.4\n",
       "7          Giemmedd Ark  biological   male    1.74   76.19  0.8  15  5.0  3.4\n",
       "8            Nesp Natho  biological   male    1.70   79.80  0.8  14  4.4  2.9\n",
       "9        Mapmo Ondrath   biological   male    1.61   70.94  0.4  15  4.9  3.1"
      ]
     },
     "execution_count": 1,
     "metadata": {},
     "output_type": "execute_result"
    }
   ],
   "source": [
    "import pandas as pd\n",
    "import matplotlib.pyplot as plt\n",
    "\n",
    "df = pd.read_csv('../../data/zombie/raw/zombies-survey.csv')\n",
    "df.head(10)"
   ]
  },
  {
   "cell_type": "markdown",
   "metadata": {},
   "source": [
    "## Scatter plot da Altura x Peso de Recuperação"
   ]
  },
  {
   "cell_type": "code",
   "execution_count": 2,
   "metadata": {},
   "outputs": [
    {
     "data": {
      "text/plain": [
       "<AxesSubplot:xlabel='height', ylabel='weight'>"
      ]
     },
     "execution_count": 2,
     "metadata": {},
     "output_type": "execute_result"
    },
    {
     "data": {
      "image/png": "[encoded data removed]",
      "text/plain": [
       "<Figure size 432x288 with 1 Axes>"
      ]
     },
     "metadata": {
      "needs_background": "light"
     },
     "output_type": "display_data"
    }
   ],
   "source": [
    "df.plot.scatter(x='height', y='weight')"
   ]
  },
  {
   "cell_type": "markdown",
   "metadata": {},
   "source": [
    "## Estimando a Regressão Linear usando Least Squares  (via SciPy)"
   ]
  },
  {
   "cell_type": "code",
   "execution_count": 3,
   "metadata": {},
   "outputs": [],
   "source": [
    "from scipy import stats\n",
    "x = df['height']\n",
    "y = df['weight']\n",
    "a, b, r, p, std_err = stats.linregress(x, y)"
   ]
  },
  {
   "cell_type": "markdown",
   "metadata": {},
   "source": [
    "## Plotando a função linear estimada x dados da amostra"
   ]
  },
  {
   "cell_type": "code",
   "execution_count": 4,
   "metadata": {},
   "outputs": [
    {
     "data": {
      "image/png": "[encoded data removed]",
      "text/plain": [
       "<Figure size 432x288 with 1 Axes>"
      ]
     },
     "metadata": {
      "needs_background": "light"
     },
     "output_type": "display_data"
    }
   ],
   "source": [
    "def estimate_y(x):\n",
    "  return a * x + b\n",
    "\n",
    "df['y_estimated'] = df['height'].apply(estimate_y)\n",
    "\n",
    "plt.figure()\n",
    "plt.plot(df['height'], df['weight'], 'o')\n",
    "plt.plot(df['height'], df['y_estimated'], 'r', linewidth=2)\n",
    "plt.xlabel('Height')\n",
    "plt.ylabel('Weight')\n",
    "plt.title('Height x Weight')\n",
    "plt.show()"
   ]
  },
  {
   "cell_type": "markdown",
   "metadata": {},
   "source": [
    "## Intercept, Height e R2"
   ]
  },
  {
   "cell_type": "code",
   "execution_count": 5,
   "metadata": {},
   "outputs": [
    {
     "name": "stdout",
     "output_type": "stream",
     "text": [
      "Intercept: 138.630118\n",
      "Height: -160.886089\n",
      "R-squared: 0.851199\n"
     ]
    }
   ],
   "source": [
    "print(\"Intercept: %f\" % a)\n",
    "print(\"Height: %f\" % b)\n",
    "print(\"R-squared: %f\" % r**2)"
   ]
  },
  {
   "cell_type": "markdown",
   "metadata": {},
   "source": [
    "## Estimando a Regressão Linear usando Ordinary Least Squares (OLS) - via Statsmodels"
   ]
  },
  {
   "cell_type": "code",
   "execution_count": 7,
   "metadata": {},
   "outputs": [
    {
     "data": {
      "text/html": [
       "<table class=\"simpletable\">\n",
       "<caption>OLS Regression Results</caption>\n",
       "<tr>\n",
       "  <th>Dep. Variable:</th>         <td>weight</td>      <th>  R-squared:         </th> <td>   0.851</td>\n",
       "</tr>\n",
       "<tr>\n",
       "  <th>Model:</th>                   <td>OLS</td>       <th>  Adj. R-squared:    </th> <td>   0.850</td>\n",
       "</tr>\n",
       "<tr>\n",
       "  <th>Method:</th>             <td>Least Squares</td>  <th>  F-statistic:       </th> <td>   846.6</td>\n",
       "</tr>\n",
       "<tr>\n",
       "  <th>Date:</th>             <td>Tue, 11 May 2021</td> <th>  Prob (F-statistic):</th> <td>4.20e-63</td>\n",
       "</tr>\n",
       "<tr>\n",
       "  <th>Time:</th>                 <td>16:09:28</td>     <th>  Log-Likelihood:    </th> <td> -475.68</td>\n",
       "</tr>\n",
       "<tr>\n",
       "  <th>No. Observations:</th>      <td>   150</td>      <th>  AIC:               </th> <td>   955.4</td>\n",
       "</tr>\n",
       "<tr>\n",
       "  <th>Df Residuals:</th>          <td>   148</td>      <th>  BIC:               </th> <td>   961.4</td>\n",
       "</tr>\n",
       "<tr>\n",
       "  <th>Df Model:</th>              <td>     1</td>      <th>                     </th>     <td> </td>   \n",
       "</tr>\n",
       "<tr>\n",
       "  <th>Covariance Type:</th>      <td>nonrobust</td>    <th>                     </th>     <td> </td>   \n",
       "</tr>\n",
       "</table>\n",
       "<table class=\"simpletable\">\n",
       "<tr>\n",
       "      <td></td>         <th>coef</th>     <th>std err</th>      <th>t</th>      <th>P>|t|</th>  <th>[0.025</th>    <th>0.975]</th>  \n",
       "</tr>\n",
       "<tr>\n",
       "  <th>Intercept</th> <td> -160.8861</td> <td>    8.033</td> <td>  -20.029</td> <td> 0.000</td> <td> -176.760</td> <td> -145.013</td>\n",
       "</tr>\n",
       "<tr>\n",
       "  <th>height</th>    <td>  138.6301</td> <td>    4.764</td> <td>   29.097</td> <td> 0.000</td> <td>  129.215</td> <td>  148.045</td>\n",
       "</tr>\n",
       "</table>\n",
       "<table class=\"simpletable\">\n",
       "<tr>\n",
       "  <th>Omnibus:</th>       <td> 1.125</td> <th>  Durbin-Watson:     </th> <td>   1.861</td>\n",
       "</tr>\n",
       "<tr>\n",
       "  <th>Prob(Omnibus):</th> <td> 0.570</td> <th>  Jarque-Bera (JB):  </th> <td>   1.195</td>\n",
       "</tr>\n",
       "<tr>\n",
       "  <th>Skew:</th>          <td>-0.199</td> <th>  Prob(JB):          </th> <td>   0.550</td>\n",
       "</tr>\n",
       "<tr>\n",
       "  <th>Kurtosis:</th>      <td> 2.820</td> <th>  Cond. No.          </th> <td>    38.6</td>\n",
       "</tr>\n",
       "</table><br/><br/>Notes:<br/>[1] Standard Errors assume that the covariance matrix of the errors is correctly specified."
      ],
      "text/plain": [
       "<class 'statsmodels.iolib.summary.Summary'>\n",
       "\"\"\"\n",
       "                            OLS Regression Results                            \n",
       "==============================================================================\n",
       "Dep. Variable:                 weight   R-squared:                       0.851\n",
       "Model:                            OLS   Adj. R-squared:                  0.850\n",
       "Method:                 Least Squares   F-statistic:                     846.6\n",
       "Date:                Tue, 11 May 2021   Prob (F-statistic):           4.20e-63\n",
       "Time:                        16:09:28   Log-Likelihood:                -475.68\n",
       "No. Observations:                 150   AIC:                             955.4\n",
       "Df Residuals:                     148   BIC:                             961.4\n",
       "Df Model:                           1                                         \n",
       "Covariance Type:            nonrobust                                         \n",
       "==============================================================================\n",
       "                 coef    std err          t      P>|t|      [0.025      0.975]\n",
       "------------------------------------------------------------------------------\n",
       "Intercept   -160.8861      8.033    -20.029      0.000    -176.760    -145.013\n",
       "height       138.6301      4.764     29.097      0.000     129.215     148.045\n",
       "==============================================================================\n",
       "Omnibus:                        1.125   Durbin-Watson:                   1.861\n",
       "Prob(Omnibus):                  0.570   Jarque-Bera (JB):                1.195\n",
       "Skew:                          -0.199   Prob(JB):                        0.550\n",
       "Kurtosis:                       2.820   Cond. No.                         38.6\n",
       "==============================================================================\n",
       "\n",
       "Notes:\n",
       "[1] Standard Errors assume that the covariance matrix of the errors is correctly specified.\n",
       "\"\"\""
      ]
     },
     "execution_count": 7,
     "metadata": {},
     "output_type": "execute_result"
    }
   ],
   "source": [
    "from statsmodels.formula.api import ols\n",
    "\n",
    "model = ols(\"weight ~ height\", data=df)\n",
    "response = model.fit()\n",
    "response.summary()"
   ]
  }
 ],
 "metadata": {
  "kernelspec": {
   "display_name": "Python 3",
   "language": "python",
   "name": "python3"
  },
  "language_info": {
   "codemirror_mode": {
    "name": "ipython",
    "version": 3
   },
   "file_extension": ".py",
   "mimetype": "text/x-python",
   "name": "python",
   "nbconvert_exporter": "python",
   "pygments_lexer": "ipython3",
   "version": "3.7.10"
  },
  "toc": {
   "base_numbering": 1,
   "nav_menu": {},
   "number_sections": false,
   "sideBar": false,
   "skip_h1_title": false,
   "title_cell": "Table of Contents",
   "title_sidebar": "Contents",
   "toc_cell": false,
   "toc_position": {},
   "toc_section_display": false,
   "toc_window_display": false
  }
 },
 "nbformat": 4,
 "nbformat_minor": 4
}
